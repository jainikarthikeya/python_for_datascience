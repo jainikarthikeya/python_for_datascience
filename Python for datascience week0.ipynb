{
 "cells": [
  {
   "cell_type": "markdown",
   "id": "6b06f73e",
   "metadata": {},
   "source": [
    "# week 0"
   ]
  },
  {
   "cell_type": "code",
   "execution_count": null,
   "id": "d310f801",
   "metadata": {},
   "outputs": [],
   "source": [
    "Question 1: Statistics and Probability is the title of a book. If each letter was carved into a block and dropped into a bag, what are the chances a person would draw either the letter A or I from the bag?\n",
    "    \n",
    "Explanation : Given the number of letters of given title =24\n",
    "    The probability of geeting a letter A => No of A letters/Total letters= 3/24\n",
    "    The probability of geeting a letter i => No of i letters/Total letters= 4/24\n",
    "Therefore;\n",
    "total probability is = 3/24+4/24=>7/24\n",
    "Therefore;the chances a person would draw either the letter A or I from the bag are 7/24\n",
    "\n",
    "\n",
    "Question 2: A manufacturing company is set up in two different locations. If the number of employees in one location are 663, and the average monthly salary for their employees is $13454, and the number of employees in the other location are 504, and the average monthly salary for their employees is $17591. Find the combined arithmetic mean of the monthly salary?\n",
    "    \n",
    "Explanation: First, calculate the total salary for employees at the first location is $663*13454=>8,920,002\n",
    "             Then calculate teh total salary for employees at the second location is 504*$17591=>8,865,864\n",
    "             Combined total salary is 8,920,002+8,865,864=>17,785866\n",
    "              For finding combined arithmetic mean the formula is Combined total salary/no of employees at both locations.\n",
    "                                                                  =17785866/663+504\n",
    "                                                                  =>15240.67\n",
    "                        \n",
    "Question 3: Given 2 samples, Sample 1 = [13.3, 2.4, 10, 13.3, 11] and Sample 2 = [8.5, 7.1, 12.6, 11.5, 10.3]. Find the sample which has a relatively greater spread of values from the mean?\n",
    "\n",
    "Explanation: Given s1=[13.3,2.4,10,13.3,11]\n",
    "             mean = 13.3+2.4+10+13.3+11/5=>50/5=10\n",
    "              Range = Max-Min=>13.3-2.4=>10.9\n",
    "            \n",
    "                    s2=[8.5,7.1,12.6,11.5,10.3]\n",
    "             mean = 8.5+7.1+12.6+11.5+10.3=>50/5=10\n",
    "                Range = Max-Min=>12.6-7.1=>5.5\n",
    "From the above calculations sample 1 has higher the sample 2 which means sample 1 has relatively greater than sample 2\n",
    "\n",
    "Question 4: The mean of the first n natural numbers is\n",
    "\n",
    "Explanation: The general formula for finding the mean of first n natural numbers is n+1/2\n",
    "\n",
    "Question 5: 3 natural numbers are chosen at random. What is the probability that their product yields an odd number?\n",
    "\n",
    "Explanation: The product of three natural numbers will be odd only if all three numbers are odd.\n",
    "             The probability that a single natural number chosen at random is odd is 1/2\n",
    "             Therefore, the probability of a three natural numbers chosen at random  are (1/2)*(1/2)*(1/2)=>1/8\n",
    "             so the probability that their product yields an odd number is 1/8.\n",
    "                \n",
    "\n",
    "        \n",
    "    \n",
    "    \n"
   ]
  },
  {
   "cell_type": "code",
   "execution_count": null,
   "id": "75c0f1d5",
   "metadata": {},
   "outputs": [],
   "source": []
  },
  {
   "cell_type": "code",
   "execution_count": null,
   "id": "c9ae1e8f",
   "metadata": {},
   "outputs": [],
   "source": []
  }
 ],
 "metadata": {
  "kernelspec": {
   "display_name": "Python 3 (ipykernel)",
   "language": "python",
   "name": "python3"
  },
  "language_info": {
   "codemirror_mode": {
    "name": "ipython",
    "version": 3
   },
   "file_extension": ".py",
   "mimetype": "text/x-python",
   "name": "python",
   "nbconvert_exporter": "python",
   "pygments_lexer": "ipython3",
   "version": "3.9.12"
  }
 },
 "nbformat": 4,
 "nbformat_minor": 5
}
